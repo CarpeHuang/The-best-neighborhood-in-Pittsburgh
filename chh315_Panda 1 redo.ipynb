{
 "cells": [
  {
   "cell_type": "markdown",
   "metadata": {},
   "source": [
    "# Lab Exercises\n",
    "\n",
    "## Processing Data with Python, Part 1\n",
    "\n",
    "### Help\n",
    "\n",
    "If you need help, please contact one of the TAs for the course.\n",
    "\n",
    "All TAs from this course can answer your questions, so feel free to attend any of the office hours that fit your schedule\n",
    "\n",
    "Submit your completed Jupyter notebook on Canvas. You don't need to submit any other files, I have them. :D"
   ]
  },
  {
   "cell_type": "markdown",
   "metadata": {},
   "source": [
    "----"
   ]
  },
  {
   "cell_type": "markdown",
   "metadata": {},
   "source": [
    "## Exercises\n",
    "\n",
    "The exercises for this week are varied, but some deal with `chipotle.tsv`, a dataset concerning Chipotle orders. If you run into any trouble, you may find the texts for this section of the course helpful:\n",
    "\n",
    "* [The Python Data Science Handbook](https://jakevdp.github.io/PythonDataScienceHandbook/), by Jake VanderPlas, or\n",
    "* [Python for Data Analysis](https://proquest.safaribooksonline.com/9781491957653), by Wes McKinney.\n",
    "\n",
    "Oh yeah, and let's import pandas for this notebook."
   ]
  },
  {
   "cell_type": "code",
   "execution_count": 3,
   "metadata": {},
   "outputs": [],
   "source": [
    "import pandas as pd"
   ]
  },
  {
   "cell_type": "markdown",
   "metadata": {},
   "source": [
    "----"
   ]
  },
  {
   "cell_type": "markdown",
   "metadata": {},
   "source": [
    "#### **Exercise 1**\n",
    "\n",
    "Using the `iloc` and slicing syntax, slice the following dataframe based on the highlighted blocks in the image. \n",
    "\n",
    "First, think of the slicing syntax to grab just the rows you want. Then, think of the slicing syntax for the columns you want. \n",
    "\n",
    "Put the row slices *before* the comma and the column slices *after* the comma."
   ]
  },
  {
   "cell_type": "code",
   "execution_count": null,
   "metadata": {},
   "outputs": [],
   "source": [
    "# here's our DataFrame\n",
    "indexing_example = pd.DataFrame([[1,2,3],[4,5,6],[7,8,9]])\n",
    "indexing_example"
   ]
  },
  {
   "cell_type": "markdown",
   "metadata": {},
   "source": [
    "Select the second two columns of the first two rows.  \n",
    "\n",
    "![first slice exercise](img/indexing1.png)  "
   ]
  },
  {
   "cell_type": "code",
   "execution_count": 1,
   "metadata": {},
   "outputs": [
    {
     "ename": "NameError",
     "evalue": "name 'indexing_example' is not defined",
     "output_type": "error",
     "traceback": [
      "\u001b[0;31m---------------------------------------------------------------------------\u001b[0m",
      "\u001b[0;31mNameError\u001b[0m                                 Traceback (most recent call last)",
      "\u001b[0;32m<ipython-input-1-866868eb34cd>\u001b[0m in \u001b[0;36m<module>\u001b[0;34m\u001b[0m\n\u001b[0;32m----> 1\u001b[0;31m \u001b[0mindexing_example\u001b[0m\u001b[0;34m.\u001b[0m\u001b[0miloc\u001b[0m\u001b[0;34m[\u001b[0m\u001b[0;34m:\u001b[0m\u001b[0;36m2\u001b[0m\u001b[0;34m,\u001b[0m \u001b[0;36m1\u001b[0m\u001b[0;34m:\u001b[0m\u001b[0;34m]\u001b[0m\u001b[0;34m\u001b[0m\u001b[0;34m\u001b[0m\u001b[0m\n\u001b[0m",
      "\u001b[0;31mNameError\u001b[0m: name 'indexing_example' is not defined"
     ]
    }
   ],
   "source": [
    "indexing_example.iloc[:2, 1:]"
   ]
  },
  {
   "cell_type": "markdown",
   "metadata": {},
   "source": [
    "Select the third row.\n",
    "\n",
    "![first slice exercise](img/indexing2.png)"
   ]
  },
  {
   "cell_type": "code",
   "execution_count": null,
   "metadata": {},
   "outputs": [],
   "source": [
    "indexing_example.iloc[2]"
   ]
  },
  {
   "cell_type": "markdown",
   "metadata": {},
   "source": [
    "Select the first two columns.\n",
    "\n",
    "![first slice exercise](img/indexing3.png)"
   ]
  },
  {
   "cell_type": "code",
   "execution_count": null,
   "metadata": {},
   "outputs": [],
   "source": [
    "indexing_example.iloc[:, :2]"
   ]
  },
  {
   "cell_type": "markdown",
   "metadata": {},
   "source": [
    "Select the first two columns of the second row.\n",
    "\n",
    "![first slice exercise](img/indexing4.png)"
   ]
  },
  {
   "cell_type": "code",
   "execution_count": null,
   "metadata": {},
   "outputs": [],
   "source": [
    "indexing_example.iloc[1, :2]\n"
   ]
  },
  {
   "cell_type": "markdown",
   "metadata": {},
   "source": [
    "#### **Exercise 2**\n",
    "\n",
    "You're going to be working with Chipotle data from here on out. The data is in a file called `chipotle.tsv`. Since this is a tab-separated file (not a CSV, which uses commas), you'll have to specify `sep='\\t'` on your read function.\n",
    "\n",
    "Import your dataset from `chipotle.tsv` and assign it to a variable called `chip`. Then, view the first 10 entries in your new DataFrame."
   ]
  },
  {
   "cell_type": "code",
   "execution_count": 2,
   "metadata": {},
   "outputs": [
    {
     "data": {
      "text/html": [
       "<div>\n",
       "<style scoped>\n",
       "    .dataframe tbody tr th:only-of-type {\n",
       "        vertical-align: middle;\n",
       "    }\n",
       "\n",
       "    .dataframe tbody tr th {\n",
       "        vertical-align: top;\n",
       "    }\n",
       "\n",
       "    .dataframe thead th {\n",
       "        text-align: right;\n",
       "    }\n",
       "</style>\n",
       "<table border=\"1\" class=\"dataframe\">\n",
       "  <thead>\n",
       "    <tr style=\"text-align: right;\">\n",
       "      <th></th>\n",
       "      <th>order_id</th>\n",
       "      <th>quantity</th>\n",
       "      <th>item_name</th>\n",
       "      <th>choice_description</th>\n",
       "      <th>item_price</th>\n",
       "    </tr>\n",
       "  </thead>\n",
       "  <tbody>\n",
       "    <tr>\n",
       "      <th>0</th>\n",
       "      <td>1</td>\n",
       "      <td>1</td>\n",
       "      <td>Chips and Fresh Tomato Salsa</td>\n",
       "      <td>NaN</td>\n",
       "      <td>2.39</td>\n",
       "    </tr>\n",
       "    <tr>\n",
       "      <th>1</th>\n",
       "      <td>1</td>\n",
       "      <td>1</td>\n",
       "      <td>Izze</td>\n",
       "      <td>[Clementine]</td>\n",
       "      <td>3.39</td>\n",
       "    </tr>\n",
       "    <tr>\n",
       "      <th>2</th>\n",
       "      <td>1</td>\n",
       "      <td>1</td>\n",
       "      <td>Nantucket Nectar</td>\n",
       "      <td>[Apple]</td>\n",
       "      <td>3.39</td>\n",
       "    </tr>\n",
       "    <tr>\n",
       "      <th>3</th>\n",
       "      <td>1</td>\n",
       "      <td>1</td>\n",
       "      <td>Chips and Tomatillo-Green Chili Salsa</td>\n",
       "      <td>NaN</td>\n",
       "      <td>2.39</td>\n",
       "    </tr>\n",
       "    <tr>\n",
       "      <th>4</th>\n",
       "      <td>2</td>\n",
       "      <td>2</td>\n",
       "      <td>Chicken Bowl</td>\n",
       "      <td>[Tomatillo-Red Chili Salsa (Hot), [Black Beans...</td>\n",
       "      <td>16.98</td>\n",
       "    </tr>\n",
       "    <tr>\n",
       "      <th>5</th>\n",
       "      <td>3</td>\n",
       "      <td>1</td>\n",
       "      <td>Chicken Bowl</td>\n",
       "      <td>[Fresh Tomato Salsa (Mild), [Rice, Cheese, Sou...</td>\n",
       "      <td>10.98</td>\n",
       "    </tr>\n",
       "    <tr>\n",
       "      <th>6</th>\n",
       "      <td>3</td>\n",
       "      <td>1</td>\n",
       "      <td>Side of Chips</td>\n",
       "      <td>NaN</td>\n",
       "      <td>1.69</td>\n",
       "    </tr>\n",
       "    <tr>\n",
       "      <th>7</th>\n",
       "      <td>4</td>\n",
       "      <td>1</td>\n",
       "      <td>Steak Burrito</td>\n",
       "      <td>[Tomatillo Red Chili Salsa, [Fajita Vegetables...</td>\n",
       "      <td>11.75</td>\n",
       "    </tr>\n",
       "    <tr>\n",
       "      <th>8</th>\n",
       "      <td>4</td>\n",
       "      <td>1</td>\n",
       "      <td>Steak Soft Tacos</td>\n",
       "      <td>[Tomatillo Green Chili Salsa, [Pinto Beans, Ch...</td>\n",
       "      <td>9.25</td>\n",
       "    </tr>\n",
       "    <tr>\n",
       "      <th>9</th>\n",
       "      <td>5</td>\n",
       "      <td>1</td>\n",
       "      <td>Steak Burrito</td>\n",
       "      <td>[Fresh Tomato Salsa, [Rice, Black Beans, Pinto...</td>\n",
       "      <td>9.25</td>\n",
       "    </tr>\n",
       "  </tbody>\n",
       "</table>\n",
       "</div>"
      ],
      "text/plain": [
       "   order_id  quantity                              item_name  \\\n",
       "0         1         1           Chips and Fresh Tomato Salsa   \n",
       "1         1         1                                   Izze   \n",
       "2         1         1                       Nantucket Nectar   \n",
       "3         1         1  Chips and Tomatillo-Green Chili Salsa   \n",
       "4         2         2                           Chicken Bowl   \n",
       "5         3         1                           Chicken Bowl   \n",
       "6         3         1                          Side of Chips   \n",
       "7         4         1                          Steak Burrito   \n",
       "8         4         1                       Steak Soft Tacos   \n",
       "9         5         1                          Steak Burrito   \n",
       "\n",
       "                                  choice_description  item_price  \n",
       "0                                                NaN        2.39  \n",
       "1                                       [Clementine]        3.39  \n",
       "2                                            [Apple]        3.39  \n",
       "3                                                NaN        2.39  \n",
       "4  [Tomatillo-Red Chili Salsa (Hot), [Black Beans...       16.98  \n",
       "5  [Fresh Tomato Salsa (Mild), [Rice, Cheese, Sou...       10.98  \n",
       "6                                                NaN        1.69  \n",
       "7  [Tomatillo Red Chili Salsa, [Fajita Vegetables...       11.75  \n",
       "8  [Tomatillo Green Chili Salsa, [Pinto Beans, Ch...        9.25  \n",
       "9  [Fresh Tomato Salsa, [Rice, Black Beans, Pinto...        9.25  "
      ]
     },
     "execution_count": 2,
     "metadata": {},
     "output_type": "execute_result"
    }
   ],
   "source": [
    "import pandas as pd\n",
    "chip = pd.read_csv('chipotle.tsv', sep='\\t')\n",
    "chip.head(10)"
   ]
  },
  {
   "cell_type": "markdown",
   "metadata": {},
   "source": [
    "#### **Exercise 3**\n",
    "\n",
    "Print the total number of observations in the DataFrame. There are a number of ways you can do this, but the value will be how many individual things were ordered at Chipotle."
   ]
  },
  {
   "cell_type": "code",
   "execution_count": 3,
   "metadata": {},
   "outputs": [
    {
     "name": "stdout",
     "output_type": "stream",
     "text": [
      "4622\n"
     ]
    }
   ],
   "source": [
    "print(len(chip))\n",
    "\n"
   ]
  },
  {
   "cell_type": "markdown",
   "metadata": {},
   "source": [
    "#### **Exercise 4**\n",
    "\n",
    "Print the number of columns in the DataFrame, and then print the names of all columns in the DataFrame. This will give you a guide to how the DataFrame is indexed."
   ]
  },
  {
   "cell_type": "code",
   "execution_count": 4,
   "metadata": {},
   "outputs": [
    {
     "name": "stdout",
     "output_type": "stream",
     "text": [
      "5\n",
      "Index(['order_id', 'quantity', 'item_name', 'choice_description',\n",
      "       'item_price'],\n",
      "      dtype='object')\n"
     ]
    }
   ],
   "source": [
    "print(len(chip.columns))\n",
    "print(chip.columns)\n"
   ]
  },
  {
   "cell_type": "markdown",
   "metadata": {},
   "source": [
    "#### **Exercise 5**\n",
    "\n",
    "Calculate, for each order number, how much the order costs. \n",
    "\n",
    "In other words, you're going to iterate through the DataFrame and, for each order number, add up the `item_price` for each item in the order.\n",
    "\n",
    "Store the order prices in a list. Then, tell me how much the 100th, 500th, and 1000th order cost. "
   ]
  },
  {
   "cell_type": "code",
   "execution_count": 5,
   "metadata": {},
   "outputs": [
    {
     "name": "stdout",
     "output_type": "stream",
     "text": [
      "10.08\n",
      "12.15\n",
      "20.5\n"
     ]
    }
   ],
   "source": [
    "chip['item_price'] = chip['item_price'].replace('[\\$,]', '', regex=True).astype(float)\n",
    "order_totals = chip.groupby('order_id')['item_price'].sum().reset_index()\n",
    "print(order_totals[order_totals['order_id'] == 100]['item_price'].values[0])\n",
    "print(order_totals[order_totals['order_id'] == 500]['item_price'].values[0])\n",
    "print(order_totals[order_totals['order_id'] == 1000]['item_price'].values[0])\n",
    "\n"
   ]
  },
  {
   "cell_type": "markdown",
   "metadata": {},
   "source": [
    "(10.08, 12.15, 20.5)"
   ]
  },
  {
   "cell_type": "markdown",
   "metadata": {},
   "source": [
    "#### **Exercise 6**\n",
    "\n",
    "This assignment is a bit tricky! Check out the Python for Everyone's section on [dictionaries](https://www.py4e.com/html3/09-dictionaries) if you're confused.\n",
    "\n",
    "Make a new dictionary. Then, iterate through the DataFrame. For each `item_name`, do the following:\n",
    "\n",
    "* if `dict[item_name]` exists, add `quantity` to it;\n",
    "* if not, set `dict[item_name]` to `quantity`;\n",
    "\n",
    "You're essentially counting the number of times that a given item has been ordered."
   ]
  },
  {
   "cell_type": "code",
   "execution_count": 6,
   "metadata": {},
   "outputs": [
    {
     "name": "stdout",
     "output_type": "stream",
     "text": [
      "{'Chips and Fresh Tomato Salsa': 130, 'Izze': 20, 'Nantucket Nectar': 29, 'Chips and Tomatillo-Green Chili Salsa': 33, 'Chicken Bowl': 761, 'Side of Chips': 110, 'Steak Burrito': 386, 'Steak Soft Tacos': 56, 'Chips and Guacamole': 506, 'Chicken Crispy Tacos': 50, 'Chicken Soft Tacos': 120, 'Chicken Burrito': 591, 'Canned Soda': 126, 'Barbacoa Burrito': 91, 'Carnitas Burrito': 60, 'Carnitas Bowl': 71, 'Bottled Water': 211, 'Chips and Tomatillo Green Chili Salsa': 45, 'Barbacoa Bowl': 66, 'Chips': 230, 'Chicken Salad Bowl': 123, 'Steak Bowl': 221, 'Barbacoa Soft Tacos': 25, 'Veggie Burrito': 97, 'Veggie Bowl': 87, 'Steak Crispy Tacos': 36, 'Chips and Tomatillo Red Chili Salsa': 50, 'Barbacoa Crispy Tacos': 12, 'Veggie Salad Bowl': 18, 'Chips and Roasted Chili-Corn Salsa': 18, 'Chips and Roasted Chili Corn Salsa': 23, 'Carnitas Soft Tacos': 40, 'Chicken Salad': 9, 'Canned Soft Drink': 351, 'Steak Salad Bowl': 31, '6 Pack Soft Drink': 55, 'Chips and Tomatillo-Red Chili Salsa': 25, 'Bowl': 4, 'Burrito': 6, 'Crispy Tacos': 2, 'Carnitas Crispy Tacos': 8, 'Steak Salad': 4, 'Chips and Mild Fresh Tomato Salsa': 1, 'Veggie Soft Tacos': 8, 'Carnitas Salad Bowl': 6, 'Barbacoa Salad Bowl': 10, 'Salad': 2, 'Veggie Crispy Tacos': 1, 'Veggie Salad': 6, 'Carnitas Salad': 1}\n"
     ]
    }
   ],
   "source": [
    "item_counts = {}\n",
    "for index, row in chip.iterrows():\n",
    "    item_name = row['item_name']\n",
    "    quantity = row['quantity']\n",
    "    if item_name in item_counts:\n",
    "        item_counts[item_name] += quantity\n",
    "    else:\n",
    "        item_counts[item_name] = quantity\n",
    "print(item_counts)\n"
   ]
  },
  {
   "cell_type": "code",
   "execution_count": null,
   "metadata": {},
   "outputs": [],
   "source": []
  }
 ],
 "metadata": {
  "kernelspec": {
   "display_name": "Python 3",
   "language": "python",
   "name": "python3"
  },
  "language_info": {
   "codemirror_mode": {
    "name": "ipython",
    "version": 3
   },
   "file_extension": ".py",
   "mimetype": "text/x-python",
   "name": "python",
   "nbconvert_exporter": "python",
   "pygments_lexer": "ipython3",
   "version": "3.8.3"
  }
 },
 "nbformat": 4,
 "nbformat_minor": 4
}
